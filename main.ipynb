{
 "cells": [
  {
   "cell_type": "code",
   "execution_count": 3,
   "metadata": {
    "id": "SwL8j-fc8JSq"
   },
   "outputs": [],
   "source": [
    "import tensorflow as tf\n",
    "import zipfile, os\n",
    "from tensorflow.keras.preprocessing.image import ImageDataGenerator\n",
    "import numpy as np\n",
    "from tensorflow.keras.preprocessing import image\n",
    "import matplotlib.pyplot as plt\n",
    "import matplotlib.image as mpimg\n",
    "import matplotlib.pyplot as plt\n",
    "import matplotlib.image as mpimg\n",
    "%matplotlib inline"
   ]
  },
  {
   "cell_type": "code",
   "execution_count": 4,
   "metadata": {
    "colab": {
     "base_uri": "https://localhost:8080/"
    },
    "id": "9j8ECTX-84Pq",
    "outputId": "8db39e28-5921-4c8d-f152-faf630c80f0e"
   },
   "outputs": [
    {
     "data": {
      "text/plain": [
       "['paper', 'README_rpc-cv-images.txt', 'rock', 'rps-cv-images', 'scissors']"
      ]
     },
     "execution_count": 4,
     "metadata": {},
     "output_type": "execute_result"
    }
   ],
   "source": [
    "os.listdir('rockpaperscissors-raw')"
   ]
  },
  {
   "cell_type": "code",
   "execution_count": 5,
   "metadata": {
    "colab": {
     "base_uri": "https://localhost:8080/"
    },
    "id": "rH-kZKCCMGcn",
    "outputId": "f031c48b-b795-430c-9b27-5f628b7aad0f"
   },
   "outputs": [
    {
     "data": {
      "text/plain": [
       "['paper',\n",
       " 'README_rpc-cv-images.txt',\n",
       " 'rock',\n",
       " 'scissors',\n",
       " 'train',\n",
       " 'validation']"
      ]
     },
     "execution_count": 5,
     "metadata": {},
     "output_type": "execute_result"
    }
   ],
   "source": [
    "os.listdir('rockpaperscissors-raw/rps-cv-images')"
   ]
  },
  {
   "cell_type": "code",
   "execution_count": 6,
   "metadata": {
    "colab": {
     "base_uri": "https://localhost:8080/"
    },
    "id": "p1w_GICZToK2",
    "outputId": "45afbf31-6d11-4908-c96d-197851e6cb55"
   },
   "outputs": [
    {
     "name": "stdout",
     "output_type": "stream",
     "text": [
      "2188\n"
     ]
    }
   ],
   "source": [
    "len_files_awal_total = len([name for name in os.listdir('rockpaperscissors-raw/paper')]) + len([name for name in os.listdir('rockpaperscissors-raw/rock')]) + len([name for name in os.listdir('rockpaperscissors-raw/scissors')])\n",
    "print(len_files_awal_total)"
   ]
  },
  {
   "cell_type": "code",
   "execution_count": 7,
   "metadata": {
    "colab": {
     "base_uri": "https://localhost:8080/"
    },
    "id": "50EfJTpiTpq7",
    "outputId": "55848941-57b7-4872-9d1f-fef8953e1b40"
   },
   "outputs": [
    {
     "name": "stdout",
     "output_type": "stream",
     "text": [
      "0\n"
     ]
    }
   ],
   "source": [
    "len_files_dua_total = len([name for name in os.listdir('rockpaperscissors-raw/rps-cv-images/paper')]) + len([name for name in os.listdir('rockpaperscissors-raw/rps-cv-images/rock')]) + len([name for name in os.listdir('rockpaperscissors-raw/rps-cv-images/scissors')])\n",
    "print(len_files_dua_total)"
   ]
  },
  {
   "cell_type": "code",
   "execution_count": 107,
   "metadata": {
    "colab": {
     "base_uri": "https://localhost:8080/"
    },
    "id": "9UDaBEAUN85N",
    "outputId": "26fa618e-79ae-4ab0-d4c1-e6593e4b7406"
   },
   "outputs": [],
   "source": [
    "import os\n",
    "import shutil\n",
    "from sklearn.model_selection import train_test_split\n",
    "\n",
    "# Path to the dataset\n",
    "base_dir = 'rockpaperscissors-raw/rps-cv-images'\n",
    "\n",
    "# Directories for train and validation sets\n",
    "train_dir = 'rockpaperscissors-raw/rps-cv-images/train'\n",
    "validation_dir = 'rockpaperscissors-raw/rps-cv-images/validation'\n",
    "\n",
    "# Categories\n",
    "categories = ['rock', 'paper', 'scissors']\n",
    "\n",
    "# # Create train and validation directories\n",
    "# os.makedirs(train_dir, exist_ok=True)\n",
    "# os.makedirs(validation_dir, exist_ok=True)\n",
    "\n",
    "# for category in categories:\n",
    "#     # Create subdirectories for each category\n",
    "#     os.makedirs(os.path.join(train_dir, category), exist_ok=True)\n",
    "#     os.makedirs(os.path.join(validation_dir, category), exist_ok=True)\n",
    "\n",
    "#     # List all files in the category\n",
    "#     category_path = os.path.join(base_dir, category)\n",
    "#     files = os.listdir(category_path)\n",
    "\n",
    "#     # Split files into train and validation\n",
    "#     train_files, validation_files = train_test_split(files, test_size=0.4, random_state=42)\n",
    "\n",
    "#     # Move files to train directory\n",
    "#     for file in train_files:\n",
    "#         shutil.move(os.path.join(category_path, file), os.path.join(train_dir, category, file))\n",
    "\n",
    "#     # Move files to validation directory\n",
    "#     for file in validation_files:\n",
    "#         shutil.move(os.path.join(category_path, file), os.path.join(validation_dir, category, file))\n",
    "\n",
    "\n",
    "# len_train = len([name for name in os.listdir('rockpaperscissors-raw/rps-cv-images/train/rock')]) + len([name for name in os.listdir('rockpaperscissors-raw/rps-cv-images/train/paper')]) + len([name for name in os.listdir('rockpaperscissors-raw/rps-cv-images/train/scissors')])\n",
    "# len_validation = len([name for name in os.listdir('rockpaperscissors-raw/rps-cv-images/validation/rock')]) + len([name for name in os.listdir('rockpaperscissors-raw/rps-cv-images/validation/paper')]) + len([name for name in os.listdir('rockpaperscissors-raw/rps-cv-images/validation/scissors')])\n",
    "# print(\"Data has been split into train and validation sets.\\n\")\n",
    "# print(f\"Total data in training set: {len_train}\")\n",
    "# print(f\"Total data in validation set: {len_validation}\")\n"
   ]
  },
  {
   "cell_type": "code",
   "execution_count": 9,
   "metadata": {
    "colab": {
     "base_uri": "https://localhost:8080/"
    },
    "id": "MdajgTSuN_oV",
    "outputId": "a190e4ef-c631-4ae2-ee93-2148c000c131"
   },
   "outputs": [
    {
     "data": {
      "text/plain": [
       "['paper', 'rock', 'scissors']"
      ]
     },
     "execution_count": 9,
     "metadata": {},
     "output_type": "execute_result"
    }
   ],
   "source": [
    "os.listdir(train_dir)"
   ]
  },
  {
   "cell_type": "code",
   "execution_count": 10,
   "metadata": {
    "colab": {
     "base_uri": "https://localhost:8080/"
    },
    "id": "fUiIcp-FRb1E",
    "outputId": "bf803c70-ffa1-44d9-d581-2376ab9f10f2"
   },
   "outputs": [
    {
     "name": "stdout",
     "output_type": "stream",
     "text": [
      "Number of files in rockpaperscissors-raw/rps-cv-images/train\\rock: 435\n",
      "Number of files in rockpaperscissors-raw/rps-cv-images/train\\paper: 427\n",
      "Number of files in rockpaperscissors-raw/rps-cv-images/train\\scissors: 450\n",
      "\n",
      "Total number of files in train directory: 1312\n"
     ]
    }
   ],
   "source": [
    "# check compositions in training set\n",
    "train_dir = 'rockpaperscissors-raw/rps-cv-images/train'\n",
    "\n",
    "# Categories\n",
    "categories = ['rock', 'paper', 'scissors']\n",
    "\n",
    "# Function to count files in a directory\n",
    "def count_files(directory):\n",
    "    return len([name for name in os.listdir(directory) if os.path.isfile(os.path.join(directory, name))])\n",
    "\n",
    "# Count total files in train directory\n",
    "total_files = 0\n",
    "for category in categories:\n",
    "    category_path = os.path.join(train_dir, category)\n",
    "    num_files = count_files(category_path)\n",
    "    total_files += num_files\n",
    "    print(f\"Number of files in {category_path}: {num_files}\")\n",
    "\n",
    "print(f\"\\nTotal number of files in train directory: {total_files}\")"
   ]
  },
  {
   "cell_type": "code",
   "execution_count": 11,
   "metadata": {
    "colab": {
     "base_uri": "https://localhost:8080/"
    },
    "id": "WYLSX0cnOG5U",
    "outputId": "67a5004b-a0cd-4158-d120-81d7c4d52645"
   },
   "outputs": [
    {
     "data": {
      "text/plain": [
       "['paper', 'rock', 'scissors']"
      ]
     },
     "execution_count": 11,
     "metadata": {},
     "output_type": "execute_result"
    }
   ],
   "source": [
    "os.listdir(validation_dir)"
   ]
  },
  {
   "cell_type": "code",
   "execution_count": 12,
   "metadata": {
    "colab": {
     "base_uri": "https://localhost:8080/"
    },
    "id": "6exffgMMOiBC",
    "outputId": "b8471590-cf10-4ccd-b3f0-42d0ed844c6c"
   },
   "outputs": [
    {
     "name": "stdout",
     "output_type": "stream",
     "text": [
      "Number of files in rockpaperscissors-raw/rps-cv-images/validation\\rock: 291\n",
      "Number of files in rockpaperscissors-raw/rps-cv-images/validation\\paper: 285\n",
      "Number of files in rockpaperscissors-raw/rps-cv-images/validation\\scissors: 300\n",
      "\n",
      "Total number of files in validation directory: 876\n"
     ]
    }
   ],
   "source": [
    "# check compositions in validation set\n",
    "total_files = 0\n",
    "for category in categories:\n",
    "    category_path = os.path.join(validation_dir, category)\n",
    "    num_files = count_files(category_path)\n",
    "    total_files += num_files\n",
    "    print(f\"Number of files in {category_path}: {num_files}\")\n",
    "\n",
    "print(f\"\\nTotal number of files in validation directory: {total_files}\")"
   ]
  },
  {
   "cell_type": "markdown",
   "metadata": {
    "id": "iYTm3_WgXJEN"
   },
   "source": [
    "### Image Augmentation\n",
    "\n",
    "Run to all classes directory"
   ]
  },
  {
   "cell_type": "code",
   "execution_count": 36,
   "metadata": {
    "colab": {
     "base_uri": "https://localhost:8080/"
    },
    "id": "99dSh_cRY3Uz",
    "outputId": "c581fb66-ae23-4148-9f44-e0e66162c125"
   },
   "outputs": [],
   "source": [
    "import os\n",
    "import numpy as np\n",
    "from tensorflow.keras.preprocessing.image import ImageDataGenerator, load_img, img_to_array, array_to_img\n",
    "\n",
    "# Define directories\n",
    "# Directory with original images\n",
    "input_dir = 'rockpaperscissors-raw/rps-cv-images/validation/rock'\n",
    "# Directory to save augmented images\n",
    "output_dir = 'rockpaperscissors-augmented/validation/rock'\n",
    "\n",
    "# Ensure output directory exists\n",
    "os.makedirs(output_dir, exist_ok=True)\n",
    "\n",
    "# Define ImageDataGenerator with augmentation parameters\n",
    "train_datagen = ImageDataGenerator(\n",
    "    rescale=1./255,\n",
    "    rotation_range=20,\n",
    "    shear_range=0.2,\n",
    "    horizontal_flip=True,\n",
    "    fill_mode='nearest'\n",
    ")\n",
    "\n",
    "image_files = [f for f in os.listdir(input_dir) if f.lower().endswith(('png', 'jpg', 'jpeg'))]\n",
    "\n",
    "for image_file in image_files:\n",
    "    # Load image\n",
    "    img_path = os.path.join(input_dir, image_file)\n",
    "    img = load_img(img_path)\n",
    "    img_array = img_to_array(img)\n",
    "    img_array = np.expand_dims(img_array, axis=0) \n",
    "\n",
    "    aug_iter = train_datagen.flow(img_array, batch_size=1, save_to_dir=output_dir, save_prefix='aug', save_format='png')\n",
    "\n",
    "    for i in range(1):\n",
    "        _ = next(aug_iter) "
   ]
  },
  {
   "cell_type": "markdown",
   "metadata": {
    "id": "gND3c6USbNP3"
   },
   "source": [
    "## Modelling NONE"
   ]
  },
  {
   "cell_type": "code",
   "execution_count": 37,
   "metadata": {},
   "outputs": [
    {
     "name": "stdout",
     "output_type": "stream",
     "text": [
      "Found 1285 images belonging to 3 classes.\n",
      "Found 864 images belonging to 3 classes.\n"
     ]
    }
   ],
   "source": [
    "train_dir = \"rockpaperscissors-augmented/train\"\n",
    "validation_dir = \"rockpaperscissors-augmented/validation\"\n",
    "\n",
    "# Only rescaling, no augmentations\n",
    "train_datagen = ImageDataGenerator(rescale=1./255)\n",
    "\n",
    "validation_datagen = ImageDataGenerator(\n",
    "    rescale=1./255)\n",
    "train_generator = train_datagen.flow_from_directory(\n",
    "    train_dir,\n",
    "    target_size=(150, 150),\n",
    "    batch_size=4,\n",
    "    class_mode='categorical'\n",
    ")\n",
    "\n",
    "# Create the validation_generator (same process for validation)\n",
    "validation_generator = validation_datagen.flow_from_directory(\n",
    "    validation_dir,\n",
    "    target_size=(150, 150),\n",
    "    batch_size=4,\n",
    "    class_mode='categorical'\n",
    ")"
   ]
  },
  {
   "cell_type": "markdown",
   "metadata": {
    "id": "dI1lo95mFWkA"
   },
   "source": [
    "### Modeling"
   ]
  },
  {
   "cell_type": "code",
   "execution_count": 38,
   "metadata": {
    "id": "ZYRtf-ANZKXl"
   },
   "outputs": [],
   "source": [
    "model = tf.keras.models.Sequential([\n",
    "    tf.keras.layers.Conv2D(32, (3,3), activation='relu', input_shape=(150, 150, 3)),\n",
    "    tf.keras.layers.MaxPooling2D(2, 2),\n",
    "    tf.keras.layers.Conv2D(64, (3,3), activation='relu'),\n",
    "    tf.keras.layers.MaxPooling2D(2,2),\n",
    "    tf.keras.layers.Conv2D(128, (3,3), activation='relu'),\n",
    "    tf.keras.layers.MaxPooling2D(2,2),\n",
    "    tf.keras.layers.Conv2D(256, (3,3), activation='relu'),\n",
    "    tf.keras.layers.MaxPooling2D(2,2),\n",
    "    tf.keras.layers.Conv2D(512, (3,3), activation='relu'),\n",
    "    tf.keras.layers.MaxPooling2D(2,2),\n",
    "    tf.keras.layers.Flatten(),\n",
    "    tf.keras.layers.Dense(512, activation='relu'),\n",
    "    tf.keras.layers.Dense(256, activation='relu'),\n",
    "    tf.keras.layers.Dense(3, activation='softmax')\n",
    "])"
   ]
  },
  {
   "cell_type": "code",
   "execution_count": 39,
   "metadata": {
    "colab": {
     "base_uri": "https://localhost:8080/",
     "height": 577
    },
    "id": "Zhy1uccubGmf",
    "outputId": "63c94823-31c0-463f-9f6e-611d6c748c71"
   },
   "outputs": [
    {
     "name": "stdout",
     "output_type": "stream",
     "text": [
      "Model: \"sequential_2\"\n",
      "_________________________________________________________________\n",
      " Layer (type)                Output Shape              Param #   \n",
      "=================================================================\n",
      " conv2d_10 (Conv2D)          (None, 148, 148, 32)      896       \n",
      "                                                                 \n",
      " max_pooling2d_10 (MaxPoolin  (None, 74, 74, 32)       0         \n",
      " g2D)                                                            \n",
      "                                                                 \n",
      " conv2d_11 (Conv2D)          (None, 72, 72, 64)        18496     \n",
      "                                                                 \n",
      " max_pooling2d_11 (MaxPoolin  (None, 36, 36, 64)       0         \n",
      " g2D)                                                            \n",
      "                                                                 \n",
      " conv2d_12 (Conv2D)          (None, 34, 34, 128)       73856     \n",
      "                                                                 \n",
      " max_pooling2d_12 (MaxPoolin  (None, 17, 17, 128)      0         \n",
      " g2D)                                                            \n",
      "                                                                 \n",
      " conv2d_13 (Conv2D)          (None, 15, 15, 256)       295168    \n",
      "                                                                 \n",
      " max_pooling2d_13 (MaxPoolin  (None, 7, 7, 256)        0         \n",
      " g2D)                                                            \n",
      "                                                                 \n",
      " conv2d_14 (Conv2D)          (None, 5, 5, 512)         1180160   \n",
      "                                                                 \n",
      " max_pooling2d_14 (MaxPoolin  (None, 2, 2, 512)        0         \n",
      " g2D)                                                            \n",
      "                                                                 \n",
      " flatten_2 (Flatten)         (None, 2048)              0         \n",
      "                                                                 \n",
      " dense_6 (Dense)             (None, 512)               1049088   \n",
      "                                                                 \n",
      " dense_7 (Dense)             (None, 256)               131328    \n",
      "                                                                 \n",
      " dense_8 (Dense)             (None, 3)                 771       \n",
      "                                                                 \n",
      "=================================================================\n",
      "Total params: 2,749,763\n",
      "Trainable params: 2,749,763\n",
      "Non-trainable params: 0\n",
      "_________________________________________________________________\n"
     ]
    }
   ],
   "source": [
    "model.summary()"
   ]
  },
  {
   "cell_type": "code",
   "execution_count": 40,
   "metadata": {
    "id": "s0HcSIxRbJwS"
   },
   "outputs": [],
   "source": [
    "model.compile(optimizer='adam',\n",
    "              loss='categorical_crossentropy',\n",
    "              metrics=['accuracy'])"
   ]
  },
  {
   "cell_type": "code",
   "execution_count": 41,
   "metadata": {
    "id": "oPTQZfobzupT"
   },
   "outputs": [],
   "source": [
    "from tensorflow.keras.callbacks import EarlyStopping, ModelCheckpoint, ReduceLROnPlateau\n",
    "\n",
    "callbacks = [\n",
    "    EarlyStopping(monitor='val_loss', patience=10, restore_best_weights=True),\n",
    "    ModelCheckpoint('best_model_none.keras', save_best_only=True, monitor='val_accuracy', mode='max'),\n",
    "    ReduceLROnPlateau(monitor='val_loss', factor=0.1, patience=5, min_lr=1e-6)\n",
    "]"
   ]
  },
  {
   "cell_type": "code",
   "execution_count": 42,
   "metadata": {
    "colab": {
     "base_uri": "https://localhost:8080/"
    },
    "id": "1Z0pRvFpbUvM",
    "outputId": "139f1ff7-ec69-49f5-f9ac-b17199fb8c34"
   },
   "outputs": [
    {
     "name": "stdout",
     "output_type": "stream",
     "text": [
      "Epoch 1/50\n",
      "100/100 [==============================] - 14s 123ms/step - loss: 1.1029 - accuracy: 0.3275 - val_loss: 1.0969 - val_accuracy: 0.4000 - lr: 0.0010\n",
      "Epoch 2/50\n",
      "100/100 [==============================] - 12s 118ms/step - loss: 1.0651 - accuracy: 0.4075 - val_loss: 0.6723 - val_accuracy: 0.9000 - lr: 0.0010\n",
      "Epoch 3/50\n",
      "100/100 [==============================] - 11s 110ms/step - loss: 0.7159 - accuracy: 0.6700 - val_loss: 0.7056 - val_accuracy: 0.7000 - lr: 0.0010\n",
      "Epoch 4/50\n",
      "100/100 [==============================] - 11s 114ms/step - loss: 0.4240 - accuracy: 0.8338 - val_loss: 1.0844 - val_accuracy: 0.7000 - lr: 0.0010\n",
      "Epoch 5/50\n",
      "100/100 [==============================] - 11s 113ms/step - loss: 0.3629 - accuracy: 0.8825 - val_loss: 0.1898 - val_accuracy: 0.9500 - lr: 0.0010\n",
      "Epoch 6/50\n",
      "100/100 [==============================] - 12s 117ms/step - loss: 0.2627 - accuracy: 0.9275 - val_loss: 0.2639 - val_accuracy: 0.8500 - lr: 0.0010\n",
      "Epoch 7/50\n",
      "100/100 [==============================] - 13s 130ms/step - loss: 0.2844 - accuracy: 0.9075 - val_loss: 0.3343 - val_accuracy: 0.9500 - lr: 0.0010\n",
      "Epoch 8/50\n",
      "100/100 [==============================] - 12s 117ms/step - loss: 0.2508 - accuracy: 0.9320 - val_loss: 0.4525 - val_accuracy: 0.8500 - lr: 0.0010\n",
      "Epoch 9/50\n",
      "100/100 [==============================] - 11s 107ms/step - loss: 0.1451 - accuracy: 0.9575 - val_loss: 0.2107 - val_accuracy: 0.9000 - lr: 0.0010\n",
      "Epoch 10/50\n",
      "100/100 [==============================] - 10s 104ms/step - loss: 0.2384 - accuracy: 0.9175 - val_loss: 0.3037 - val_accuracy: 0.9000 - lr: 0.0010\n",
      "Epoch 11/50\n",
      "100/100 [==============================] - 10s 104ms/step - loss: 0.0906 - accuracy: 0.9775 - val_loss: 0.0029 - val_accuracy: 1.0000 - lr: 1.0000e-04\n",
      "Epoch 12/50\n",
      "100/100 [==============================] - 10s 104ms/step - loss: 0.1111 - accuracy: 0.9622 - val_loss: 0.0718 - val_accuracy: 1.0000 - lr: 1.0000e-04\n",
      "Epoch 13/50\n",
      "100/100 [==============================] - 10s 101ms/step - loss: 0.0533 - accuracy: 0.9849 - val_loss: 0.1117 - val_accuracy: 0.9500 - lr: 1.0000e-04\n",
      "Epoch 14/50\n",
      "100/100 [==============================] - 10s 103ms/step - loss: 0.0684 - accuracy: 0.9775 - val_loss: 0.1082 - val_accuracy: 0.9500 - lr: 1.0000e-04\n",
      "Epoch 15/50\n",
      "100/100 [==============================] - 11s 106ms/step - loss: 0.0886 - accuracy: 0.9700 - val_loss: 0.1297 - val_accuracy: 0.9500 - lr: 1.0000e-04\n",
      "Epoch 16/50\n",
      "100/100 [==============================] - 11s 111ms/step - loss: 0.0923 - accuracy: 0.9750 - val_loss: 0.2503 - val_accuracy: 0.9000 - lr: 1.0000e-04\n",
      "Epoch 17/50\n",
      "100/100 [==============================] - 10s 102ms/step - loss: 0.0199 - accuracy: 0.9975 - val_loss: 0.0210 - val_accuracy: 1.0000 - lr: 1.0000e-05\n",
      "Epoch 18/50\n",
      "100/100 [==============================] - 10s 101ms/step - loss: 0.0418 - accuracy: 0.9899 - val_loss: 0.2097 - val_accuracy: 0.9500 - lr: 1.0000e-05\n",
      "Epoch 19/50\n",
      "100/100 [==============================] - 10s 102ms/step - loss: 0.0556 - accuracy: 0.9800 - val_loss: 0.0171 - val_accuracy: 1.0000 - lr: 1.0000e-05\n",
      "Epoch 20/50\n",
      "100/100 [==============================] - 10s 102ms/step - loss: 0.0540 - accuracy: 0.9875 - val_loss: 0.0337 - val_accuracy: 1.0000 - lr: 1.0000e-05\n",
      "Epoch 21/50\n",
      "100/100 [==============================] - 10s 101ms/step - loss: 0.0485 - accuracy: 0.9849 - val_loss: 0.0303 - val_accuracy: 1.0000 - lr: 1.0000e-05\n"
     ]
    }
   ],
   "source": [
    "history = model.fit(\n",
    "      train_generator,\n",
    "      steps_per_epoch=100,\n",
    "      epochs=50,\n",
    "      validation_data=validation_generator,\n",
    "      validation_steps=5,\n",
    "      callbacks=callbacks)"
   ]
  },
  {
   "cell_type": "code",
   "execution_count": 43,
   "metadata": {
    "id": "26kLpLhubttr"
   },
   "outputs": [],
   "source": [
    "train_accuracy = history.history['accuracy']\n",
    "val_accuracy = history.history['val_accuracy']"
   ]
  },
  {
   "cell_type": "code",
   "execution_count": 44,
   "metadata": {
    "colab": {
     "base_uri": "https://localhost:8080/",
     "height": 472
    },
    "id": "YSCjugKRpX3P",
    "outputId": "dabbbb6f-4a0d-4570-fcd6-71fdbe9a6e17"
   },
   "outputs": [
    {
     "data": {
      "image/png": "[encoded data removed]",
      "text/plain": [
       "<Figure size 640x480 with 1 Axes>"
      ]
     },
     "metadata": {},
     "output_type": "display_data"
    }
   ],
   "source": [
    "import matplotlib.pyplot as plt\n",
    "\n",
    "# Plot training & validation accuracy values\n",
    "plt.plot(train_accuracy)\n",
    "plt.plot(val_accuracy)\n",
    "plt.title('Model accuracy')\n",
    "plt.ylabel('Accuracy')\n",
    "plt.xlabel('Epoch')\n",
    "plt.legend(['Train', 'Validation'], loc='upper left')\n",
    "plt.show()"
   ]
  },
  {
   "cell_type": "code",
   "execution_count": 46,
   "metadata": {},
   "outputs": [
    {
     "name": "stdout",
     "output_type": "stream",
     "text": [
      "216/216 [==============================] - 5s 21ms/step - loss: 0.1437 - accuracy: 0.9502\n",
      "Best model validation accuracy: 0.9502\n"
     ]
    }
   ],
   "source": [
    "from tensorflow.keras.models import load_model\n",
    "\n",
    "# Load the best model saved during training\n",
    "best_model = load_model('best_model_none.keras')\n",
    "\n",
    "# Evaluate the model to see the best validation accuracy\n",
    "val_loss, val_accuracy = best_model.evaluate(validation_generator)\n",
    "print(f\"Best model validation accuracy: {val_accuracy:.4f}\")"
   ]
  },
  {
   "cell_type": "markdown",
   "metadata": {
    "id": "KUAOBZffssx7"
   },
   "source": [
    "## Modelling CANNY"
   ]
  },
  {
   "cell_type": "markdown",
   "metadata": {
    "id": "t5XMYemWFM0G"
   },
   "source": [
    "### Image Preprocessing\n",
    "Run to all classes directory"
   ]
  },
  {
   "cell_type": "code",
   "execution_count": 53,
   "metadata": {
    "colab": {
     "base_uri": "https://localhost:8080/"
    },
    "id": "VIA-cCeZxPdM",
    "outputId": "7eb32a2c-5a73-4ae7-d4c3-2fb102ef9678"
   },
   "outputs": [],
   "source": [
    "import os\n",
    "import numpy as np\n",
    "import cv2  # OpenCV for Canny edge detection\n",
    "from tensorflow.keras.preprocessing.image import load_img, img_to_array\n",
    "\n",
    "input_dir = 'rockpaperscissors-augmented/train/paper'\n",
    "output_dir = 'rockpaperscissors-canny/train/paper'\n",
    "\n",
    "os.makedirs(output_dir, exist_ok=True)\n",
    "\n",
    "def apply_canny_edge_detection(image_path):\n",
    "    img = cv2.imread(image_path)\n",
    "    gray_img = cv2.cvtColor(img, cv2.COLOR_BGR2GRAY)\n",
    "    edges = cv2.Canny(gray_img, 64, 128)\n",
    "    return edges\n",
    "\n",
    "\n",
    "# Process each image in the input directory\n",
    "image_files = [f for f in os.listdir(\n",
    "    input_dir) if f.lower().endswith(('png', 'jpg', 'jpeg'))]\n",
    "\n",
    "for image_file in image_files:\n",
    "    img_path = os.path.join(input_dir, image_file)\n",
    "\n",
    "    edges = apply_canny_edge_detection(img_path)\n",
    "\n",
    "    output_image_path = os.path.join(output_dir, f\"edges_{image_file}\")\n",
    "\n",
    "    cv2.imwrite(output_image_path, edges)\n"
   ]
  },
  {
   "cell_type": "code",
   "execution_count": 97,
   "metadata": {},
   "outputs": [
    {
     "name": "stdout",
     "output_type": "stream",
     "text": [
      "Found 1285 images belonging to 3 classes.\n",
      "Found 864 images belonging to 3 classes.\n"
     ]
    }
   ],
   "source": [
    "train_dir = \"rockpaperscissors-canny/train\"\n",
    "validation_dir = \"rockpaperscissors-canny/validation\"\n",
    "\n",
    "# Only rescaling, no augmentations\n",
    "train_datagen = ImageDataGenerator(rescale=1./255)\n",
    "\n",
    "validation_datagen = ImageDataGenerator(\n",
    "    rescale=1./255)\n",
    "train_generator = train_datagen.flow_from_directory(\n",
    "    train_dir,\n",
    "    target_size=(150, 150),\n",
    "    batch_size=4,\n",
    "    class_mode='categorical'\n",
    ")\n",
    "\n",
    "# Create the validation_generator (same process for validation)\n",
    "validation_generator = validation_datagen.flow_from_directory(\n",
    "    validation_dir,\n",
    "    target_size=(150, 150),\n",
    "    batch_size=4,\n",
    "    class_mode='categorical'\n",
    ")"
   ]
  },
  {
   "cell_type": "markdown",
   "metadata": {
    "id": "mEHqiOroFc27"
   },
   "source": [
    "### Modeling"
   ]
  },
  {
   "cell_type": "code",
   "execution_count": 98,
   "metadata": {
    "id": "i71JlEqossx7"
   },
   "outputs": [],
   "source": [
    "model = tf.keras.models.Sequential([\n",
    "    tf.keras.layers.Conv2D(32, (3,3), activation='relu', input_shape=(150, 150, 3)),\n",
    "    tf.keras.layers.MaxPooling2D(2, 2),\n",
    "    tf.keras.layers.Conv2D(64, (3,3), activation='relu'),\n",
    "    tf.keras.layers.MaxPooling2D(2,2),\n",
    "    tf.keras.layers.Conv2D(128, (3,3), activation='relu'),\n",
    "    tf.keras.layers.MaxPooling2D(2,2),\n",
    "    tf.keras.layers.Conv2D(256, (3,3), activation='relu'),\n",
    "    tf.keras.layers.MaxPooling2D(2,2),\n",
    "    tf.keras.layers.Conv2D(512, (3,3), activation='relu'),\n",
    "    tf.keras.layers.MaxPooling2D(2,2),\n",
    "    tf.keras.layers.Flatten(),\n",
    "    tf.keras.layers.Dense(512, activation='relu'),\n",
    "    tf.keras.layers.Dense(256, activation='relu'),\n",
    "    tf.keras.layers.Dense(3, activation='softmax')\n",
    "])"
   ]
  },
  {
   "cell_type": "code",
   "execution_count": 99,
   "metadata": {
    "colab": {
     "base_uri": "https://localhost:8080/",
     "height": 577
    },
    "id": "QRHnR2nQssx7",
    "outputId": "caa24530-c0f0-49ce-c46f-ad0c485692a4"
   },
   "outputs": [
    {
     "name": "stdout",
     "output_type": "stream",
     "text": [
      "Model: \"sequential_6\"\n",
      "_________________________________________________________________\n",
      " Layer (type)                Output Shape              Param #   \n",
      "=================================================================\n",
      " conv2d_30 (Conv2D)          (None, 148, 148, 32)      896       \n",
      "                                                                 \n",
      " max_pooling2d_30 (MaxPoolin  (None, 74, 74, 32)       0         \n",
      " g2D)                                                            \n",
      "                                                                 \n",
      " conv2d_31 (Conv2D)          (None, 72, 72, 64)        18496     \n",
      "                                                                 \n",
      " max_pooling2d_31 (MaxPoolin  (None, 36, 36, 64)       0         \n",
      " g2D)                                                            \n",
      "                                                                 \n",
      " conv2d_32 (Conv2D)          (None, 34, 34, 128)       73856     \n",
      "                                                                 \n",
      " max_pooling2d_32 (MaxPoolin  (None, 17, 17, 128)      0         \n",
      " g2D)                                                            \n",
      "                                                                 \n",
      " conv2d_33 (Conv2D)          (None, 15, 15, 256)       295168    \n",
      "                                                                 \n",
      " max_pooling2d_33 (MaxPoolin  (None, 7, 7, 256)        0         \n",
      " g2D)                                                            \n",
      "                                                                 \n",
      " conv2d_34 (Conv2D)          (None, 5, 5, 512)         1180160   \n",
      "                                                                 \n",
      " max_pooling2d_34 (MaxPoolin  (None, 2, 2, 512)        0         \n",
      " g2D)                                                            \n",
      "                                                                 \n",
      " flatten_6 (Flatten)         (None, 2048)              0         \n",
      "                                                                 \n",
      " dense_18 (Dense)            (None, 512)               1049088   \n",
      "                                                                 \n",
      " dense_19 (Dense)            (None, 256)               131328    \n",
      "                                                                 \n",
      " dense_20 (Dense)            (None, 3)                 771       \n",
      "                                                                 \n",
      "=================================================================\n",
      "Total params: 2,749,763\n",
      "Trainable params: 2,749,763\n",
      "Non-trainable params: 0\n",
      "_________________________________________________________________\n"
     ]
    }
   ],
   "source": [
    "model.summary()"
   ]
  },
  {
   "cell_type": "code",
   "execution_count": 100,
   "metadata": {
    "id": "kUsmE3OGssx8"
   },
   "outputs": [],
   "source": [
    "model.compile(optimizer='adam',\n",
    "              loss='categorical_crossentropy',\n",
    "              metrics=['accuracy'])"
   ]
  },
  {
   "cell_type": "code",
   "execution_count": 101,
   "metadata": {
    "id": "yg_YFdtMssx8"
   },
   "outputs": [],
   "source": [
    "from tensorflow.keras.callbacks import EarlyStopping, ModelCheckpoint, ReduceLROnPlateau\n",
    "\n",
    "callbacks = [\n",
    "    EarlyStopping(monitor='val_loss', patience=10, restore_best_weights=True),\n",
    "    ModelCheckpoint('best_model_canny.keras', save_best_only=True, monitor='val_accuracy', mode='max'),\n",
    "    ReduceLROnPlateau(monitor='val_loss', factor=0.1, patience=5, min_lr=1e-6)\n",
    "]"
   ]
  },
  {
   "cell_type": "code",
   "execution_count": 102,
   "metadata": {
    "colab": {
     "base_uri": "https://localhost:8080/",
     "height": 371
    },
    "id": "4WY9UiIIssx8",
    "outputId": "9a832112-c1db-455a-a0b1-05a874984c12"
   },
   "outputs": [
    {
     "name": "stdout",
     "output_type": "stream",
     "text": [
      "Epoch 1/50\n",
      "100/100 [==============================] - 12s 110ms/step - loss: 1.1056 - accuracy: 0.3450 - val_loss: 1.0930 - val_accuracy: 0.4500 - lr: 0.0010\n",
      "Epoch 2/50\n",
      "100/100 [==============================] - 11s 112ms/step - loss: 1.0827 - accuracy: 0.3804 - val_loss: 1.0488 - val_accuracy: 0.6500 - lr: 0.0010\n",
      "Epoch 3/50\n",
      "100/100 [==============================] - 11s 108ms/step - loss: 0.8895 - accuracy: 0.5000 - val_loss: 0.6186 - val_accuracy: 0.6500 - lr: 0.0010\n",
      "Epoch 4/50\n",
      "100/100 [==============================] - 11s 112ms/step - loss: 0.6522 - accuracy: 0.6625 - val_loss: 1.3196 - val_accuracy: 0.4500 - lr: 0.0010\n",
      "Epoch 5/50\n",
      "100/100 [==============================] - 13s 126ms/step - loss: 0.6409 - accuracy: 0.7075 - val_loss: 0.3395 - val_accuracy: 0.9500 - lr: 0.0010\n",
      "Epoch 6/50\n",
      "100/100 [==============================] - 12s 118ms/step - loss: 0.5785 - accuracy: 0.7725 - val_loss: 0.2891 - val_accuracy: 0.9000 - lr: 0.0010\n",
      "Epoch 7/50\n",
      "100/100 [==============================] - 11s 109ms/step - loss: 0.2789 - accuracy: 0.8750 - val_loss: 0.0522 - val_accuracy: 1.0000 - lr: 0.0010\n",
      "Epoch 8/50\n",
      "100/100 [==============================] - 11s 108ms/step - loss: 0.2352 - accuracy: 0.9150 - val_loss: 0.2001 - val_accuracy: 0.9500 - lr: 0.0010\n",
      "Epoch 9/50\n",
      "100/100 [==============================] - 10s 105ms/step - loss: 0.2584 - accuracy: 0.9200 - val_loss: 0.2463 - val_accuracy: 0.9500 - lr: 0.0010\n",
      "Epoch 10/50\n",
      "100/100 [==============================] - 11s 107ms/step - loss: 0.2435 - accuracy: 0.9270 - val_loss: 0.1749 - val_accuracy: 0.9500 - lr: 0.0010\n",
      "Epoch 11/50\n",
      "100/100 [==============================] - 11s 109ms/step - loss: 0.1210 - accuracy: 0.9575 - val_loss: 0.3477 - val_accuracy: 0.8500 - lr: 0.0010\n",
      "Epoch 12/50\n",
      "100/100 [==============================] - 11s 112ms/step - loss: 0.1244 - accuracy: 0.9675 - val_loss: 0.0548 - val_accuracy: 0.9500 - lr: 0.0010\n",
      "Epoch 13/50\n",
      "100/100 [==============================] - 12s 118ms/step - loss: 0.0720 - accuracy: 0.9750 - val_loss: 0.0103 - val_accuracy: 1.0000 - lr: 1.0000e-04\n",
      "Epoch 14/50\n",
      "100/100 [==============================] - 12s 119ms/step - loss: 0.0730 - accuracy: 0.9775 - val_loss: 0.0676 - val_accuracy: 0.9500 - lr: 1.0000e-04\n",
      "Epoch 15/50\n",
      "100/100 [==============================] - 12s 118ms/step - loss: 0.0515 - accuracy: 0.9875 - val_loss: 0.2341 - val_accuracy: 0.9000 - lr: 1.0000e-04\n",
      "Epoch 16/50\n",
      "100/100 [==============================] - 11s 114ms/step - loss: 0.0459 - accuracy: 0.9850 - val_loss: 0.0412 - val_accuracy: 0.9500 - lr: 1.0000e-04\n",
      "Epoch 17/50\n",
      "100/100 [==============================] - 12s 121ms/step - loss: 0.0314 - accuracy: 0.9925 - val_loss: 0.4461 - val_accuracy: 0.9000 - lr: 1.0000e-04\n",
      "Epoch 18/50\n",
      "100/100 [==============================] - 13s 125ms/step - loss: 0.0065 - accuracy: 1.0000 - val_loss: 0.6207 - val_accuracy: 0.9000 - lr: 1.0000e-04\n",
      "Epoch 19/50\n",
      "100/100 [==============================] - 12s 125ms/step - loss: 0.0319 - accuracy: 0.9925 - val_loss: 0.7337 - val_accuracy: 0.9000 - lr: 1.0000e-05\n",
      "Epoch 20/50\n",
      "100/100 [==============================] - 13s 126ms/step - loss: 0.0198 - accuracy: 0.9925 - val_loss: 0.5424 - val_accuracy: 0.8500 - lr: 1.0000e-05\n",
      "Epoch 21/50\n",
      "100/100 [==============================] - 13s 126ms/step - loss: 0.0261 - accuracy: 0.9950 - val_loss: 0.6712 - val_accuracy: 0.9000 - lr: 1.0000e-05\n",
      "Epoch 22/50\n",
      "100/100 [==============================] - 13s 126ms/step - loss: 0.0194 - accuracy: 0.9950 - val_loss: 0.5552 - val_accuracy: 0.9000 - lr: 1.0000e-05\n",
      "Epoch 23/50\n",
      "100/100 [==============================] - 13s 130ms/step - loss: 0.0154 - accuracy: 0.9950 - val_loss: 0.0415 - val_accuracy: 1.0000 - lr: 1.0000e-05\n"
     ]
    }
   ],
   "source": [
    "history = model.fit(\n",
    "      train_generator,\n",
    "      steps_per_epoch=100,\n",
    "      epochs=50,\n",
    "      validation_data=validation_generator,\n",
    "      validation_steps=5,\n",
    "      callbacks=callbacks)"
   ]
  },
  {
   "cell_type": "code",
   "execution_count": 103,
   "metadata": {
    "id": "cOliQsstssx8"
   },
   "outputs": [],
   "source": [
    "train_accuracy = history.history['accuracy']\n",
    "val_accuracy = history.history['val_accuracy']"
   ]
  },
  {
   "cell_type": "code",
   "execution_count": 104,
   "metadata": {
    "colab": {
     "base_uri": "https://localhost:8080/",
     "height": 472
    },
    "id": "GV4l8Xxjssx8",
    "outputId": "dabbbb6f-4a0d-4570-fcd6-71fdbe9a6e17"
   },
   "outputs": [
    {
     "data": {
      "image/png": "[encoded data removed]",
      "text/plain": [
       "<Figure size 640x480 with 1 Axes>"
      ]
     },
     "metadata": {},
     "output_type": "display_data"
    }
   ],
   "source": [
    "import matplotlib.pyplot as plt\n",
    "\n",
    "# Plot training & validation accuracy values\n",
    "plt.plot(train_accuracy)\n",
    "plt.plot(val_accuracy)\n",
    "plt.title('Model accuracy')\n",
    "plt.ylabel('Accuracy')\n",
    "plt.xlabel('Epoch')\n",
    "plt.legend(['Train', 'Validation'], loc='upper left')\n",
    "plt.show()"
   ]
  },
  {
   "cell_type": "code",
   "execution_count": 105,
   "metadata": {},
   "outputs": [
    {
     "name": "stdout",
     "output_type": "stream",
     "text": [
      "216/216 [==============================] - 5s 23ms/step - loss: 0.4427 - accuracy: 0.8738\n",
      "Best model validation accuracy: 0.8738\n"
     ]
    }
   ],
   "source": [
    "from tensorflow.keras.models import load_model\n",
    "\n",
    "# Load the best model saved during training\n",
    "best_model = load_model('best_model_canny.keras')\n",
    "\n",
    "# Evaluate the model to see the best validation accuracy\n",
    "val_loss, val_accuracy = best_model.evaluate(validation_generator)\n",
    "print(f\"Best model validation accuracy: {val_accuracy:.4f}\")"
   ]
  },
  {
   "cell_type": "code",
   "execution_count": null,
   "metadata": {},
   "outputs": [],
   "source": []
  },
  {
   "cell_type": "markdown",
   "metadata": {},
   "source": [
    "## Modelling PREWIT"
   ]
  },
  {
   "cell_type": "markdown",
   "metadata": {},
   "source": [
    "### Image Preprocessing\n",
    "Run to all classes directory"
   ]
  },
  {
   "cell_type": "code",
   "execution_count": 70,
   "metadata": {},
   "outputs": [],
   "source": [
    "import os\n",
    "import numpy as np\n",
    "import cv2  # OpenCV for image manipulation\n",
    "\n",
    "# Define input and output directories\n",
    "# Directory with original images\n",
    "input_dir = 'rockpaperscissors-augmented/validation/paper'\n",
    "# Directory to save processed images\n",
    "output_dir = 'rockpaperscissors-prewit/validation/paper'\n",
    "\n",
    "# Ensure output directory exists\n",
    "os.makedirs(output_dir, exist_ok=True)\n",
    "\n",
    "# Function to apply Prewitt edge detection\n",
    "\n",
    "\n",
    "def apply_prewitt_edge_detection(image_path):\n",
    "    # Load the image\n",
    "    img = cv2.imread(image_path)\n",
    "    # Convert image to grayscale\n",
    "    gray_img = cv2.cvtColor(img, cv2.COLOR_BGR2GRAY)\n",
    "\n",
    "    # Define Prewitt kernels for edge detection\n",
    "    kernel_x = np.array([[1, 0, -1],\n",
    "                         [1, 0, -1],\n",
    "                         [1, 0, -1]])\n",
    "\n",
    "    kernel_y = np.array([[1, 1, 1],\n",
    "                         [0, 0, 0],\n",
    "                         [-1, -1, -1]])\n",
    "\n",
    "    # Apply convolution using the Prewitt kernels to detect edges in both x and y directions\n",
    "    grad_x = cv2.filter2D(gray_img, -1, kernel_x)\n",
    "    grad_y = cv2.filter2D(gray_img, -1, kernel_y)\n",
    "\n",
    "    # Convert grad_x and grad_y to float32 before calculating the magnitude\n",
    "    grad_x = grad_x.astype(np.float32)\n",
    "    grad_y = grad_y.astype(np.float32)\n",
    "\n",
    "    # Combine the gradients in x and y direction to get the final edge map\n",
    "    edges = cv2.magnitude(grad_x, grad_y)\n",
    "\n",
    "    # Normalize the result to the range [0, 255] and convert to uint8 for saving\n",
    "    edges = np.uint8(np.clip(edges, 0, 255))\n",
    "\n",
    "    return edges\n",
    "\n",
    "\n",
    "# Process each image in the input directory\n",
    "image_files = [f for f in os.listdir(\n",
    "    input_dir) if f.lower().endswith(('png', 'jpg', 'jpeg'))]\n",
    "\n",
    "for image_file in image_files:\n",
    "    img_path = os.path.join(input_dir, image_file)\n",
    "\n",
    "    # Apply Prewitt edge detection\n",
    "    edges = apply_prewitt_edge_detection(img_path)\n",
    "\n",
    "    # Define the output image path\n",
    "    output_image_path = os.path.join(output_dir, f\"edges_{image_file}\")\n",
    "\n",
    "    # Save the edge-detected image to the output directory\n",
    "    cv2.imwrite(output_image_path, edges)"
   ]
  },
  {
   "cell_type": "code",
   "execution_count": 71,
   "metadata": {},
   "outputs": [
    {
     "name": "stdout",
     "output_type": "stream",
     "text": [
      "Found 1285 images belonging to 3 classes.\n",
      "Found 864 images belonging to 3 classes.\n"
     ]
    }
   ],
   "source": [
    "train_dir = \"rockpaperscissors-prewit/train\"\n",
    "validation_dir = \"rockpaperscissors-prewit/validation\"\n",
    "\n",
    "# Only rescaling, no augmentations\n",
    "train_datagen = ImageDataGenerator(rescale=1./255)\n",
    "\n",
    "validation_datagen = ImageDataGenerator(\n",
    "    rescale=1./255)\n",
    "train_generator = train_datagen.flow_from_directory(\n",
    "    train_dir,\n",
    "    target_size=(150, 150),\n",
    "    batch_size=4,\n",
    "    class_mode='categorical'\n",
    ")\n",
    "\n",
    "# Create the validation_generator (same process for validation)\n",
    "validation_generator = validation_datagen.flow_from_directory(\n",
    "    validation_dir,\n",
    "    target_size=(150, 150),\n",
    "    batch_size=4,\n",
    "    class_mode='categorical'\n",
    ")"
   ]
  },
  {
   "cell_type": "markdown",
   "metadata": {},
   "source": [
    "### Modeling"
   ]
  },
  {
   "cell_type": "code",
   "execution_count": 72,
   "metadata": {},
   "outputs": [],
   "source": [
    "model = tf.keras.models.Sequential([\n",
    "    tf.keras.layers.Conv2D(32, (3,3), activation='relu', input_shape=(150, 150, 3)),\n",
    "    tf.keras.layers.MaxPooling2D(2, 2),\n",
    "    tf.keras.layers.Conv2D(64, (3,3), activation='relu'),\n",
    "    tf.keras.layers.MaxPooling2D(2,2),\n",
    "    tf.keras.layers.Conv2D(128, (3,3), activation='relu'),\n",
    "    tf.keras.layers.MaxPooling2D(2,2),\n",
    "    tf.keras.layers.Conv2D(256, (3,3), activation='relu'),\n",
    "    tf.keras.layers.MaxPooling2D(2,2),\n",
    "    tf.keras.layers.Conv2D(512, (3,3), activation='relu'),\n",
    "    tf.keras.layers.MaxPooling2D(2,2),\n",
    "    tf.keras.layers.Flatten(),\n",
    "    tf.keras.layers.Dense(512, activation='relu'),\n",
    "    tf.keras.layers.Dense(256, activation='relu'),\n",
    "    tf.keras.layers.Dense(3, activation='softmax')\n",
    "])"
   ]
  },
  {
   "cell_type": "code",
   "execution_count": 73,
   "metadata": {},
   "outputs": [
    {
     "name": "stdout",
     "output_type": "stream",
     "text": [
      "Model: \"sequential_4\"\n",
      "_________________________________________________________________\n",
      " Layer (type)                Output Shape              Param #   \n",
      "=================================================================\n",
      " conv2d_20 (Conv2D)          (None, 148, 148, 32)      896       \n",
      "                                                                 \n",
      " max_pooling2d_20 (MaxPoolin  (None, 74, 74, 32)       0         \n",
      " g2D)                                                            \n",
      "                                                                 \n",
      " conv2d_21 (Conv2D)          (None, 72, 72, 64)        18496     \n",
      "                                                                 \n",
      " max_pooling2d_21 (MaxPoolin  (None, 36, 36, 64)       0         \n",
      " g2D)                                                            \n",
      "                                                                 \n",
      " conv2d_22 (Conv2D)          (None, 34, 34, 128)       73856     \n",
      "                                                                 \n",
      " max_pooling2d_22 (MaxPoolin  (None, 17, 17, 128)      0         \n",
      " g2D)                                                            \n",
      "                                                                 \n",
      " conv2d_23 (Conv2D)          (None, 15, 15, 256)       295168    \n",
      "                                                                 \n",
      " max_pooling2d_23 (MaxPoolin  (None, 7, 7, 256)        0         \n",
      " g2D)                                                            \n",
      "                                                                 \n",
      " conv2d_24 (Conv2D)          (None, 5, 5, 512)         1180160   \n",
      "                                                                 \n",
      " max_pooling2d_24 (MaxPoolin  (None, 2, 2, 512)        0         \n",
      " g2D)                                                            \n",
      "                                                                 \n",
      " flatten_4 (Flatten)         (None, 2048)              0         \n",
      "                                                                 \n",
      " dense_12 (Dense)            (None, 512)               1049088   \n",
      "                                                                 \n",
      " dense_13 (Dense)            (None, 256)               131328    \n",
      "                                                                 \n",
      " dense_14 (Dense)            (None, 3)                 771       \n",
      "                                                                 \n",
      "=================================================================\n",
      "Total params: 2,749,763\n",
      "Trainable params: 2,749,763\n",
      "Non-trainable params: 0\n",
      "_________________________________________________________________\n"
     ]
    }
   ],
   "source": [
    "model.summary()"
   ]
  },
  {
   "cell_type": "code",
   "execution_count": 74,
   "metadata": {},
   "outputs": [],
   "source": [
    "model.compile(optimizer='adam',\n",
    "              loss='categorical_crossentropy',\n",
    "              metrics=['accuracy'])"
   ]
  },
  {
   "cell_type": "code",
   "execution_count": null,
   "metadata": {},
   "outputs": [],
   "source": [
    "from tensorflow.keras.callbacks import EarlyStopping, ModelCheckpoint, ReduceLROnPlateau\n",
    "\n",
    "callbacks = [\n",
    "    EarlyStopping(monitor='val_loss', patience=10, restore_best_weights=True),\n",
    "    ModelCheckpoint('best_model_prewit.keras', save_best_only=True, monitor='val_accuracy', mode='max'),\n",
    "    ReduceLROnPlateau(monitor='val_loss', factor=0.1, patience=5, min_lr=1e-6)\n",
    "]"
   ]
  },
  {
   "cell_type": "code",
   "execution_count": 76,
   "metadata": {},
   "outputs": [
    {
     "name": "stdout",
     "output_type": "stream",
     "text": [
      "Epoch 1/50\n",
      "100/100 [==============================] - 13s 116ms/step - loss: 1.0380 - accuracy: 0.4625 - val_loss: 0.8061 - val_accuracy: 0.5000 - lr: 0.0010\n",
      "Epoch 2/50\n",
      "100/100 [==============================] - 11s 115ms/step - loss: 0.6932 - accuracy: 0.7025 - val_loss: 0.6729 - val_accuracy: 0.6000 - lr: 0.0010\n",
      "Epoch 3/50\n",
      "100/100 [==============================] - 12s 119ms/step - loss: 0.5164 - accuracy: 0.8075 - val_loss: 0.2784 - val_accuracy: 0.9000 - lr: 0.0010\n",
      "Epoch 4/50\n",
      "100/100 [==============================] - 12s 122ms/step - loss: 0.3206 - accuracy: 0.8900 - val_loss: 0.3066 - val_accuracy: 0.8000 - lr: 0.0010\n",
      "Epoch 5/50\n",
      "100/100 [==============================] - 11s 111ms/step - loss: 0.3174 - accuracy: 0.9025 - val_loss: 0.1833 - val_accuracy: 1.0000 - lr: 0.0010\n",
      "Epoch 6/50\n",
      "100/100 [==============================] - 11s 110ms/step - loss: 0.2788 - accuracy: 0.9050 - val_loss: 0.6099 - val_accuracy: 0.7500 - lr: 0.0010\n",
      "Epoch 7/50\n",
      "100/100 [==============================] - 11s 111ms/step - loss: 0.2550 - accuracy: 0.9175 - val_loss: 0.0282 - val_accuracy: 1.0000 - lr: 0.0010\n",
      "Epoch 8/50\n",
      "100/100 [==============================] - 11s 111ms/step - loss: 0.3197 - accuracy: 0.9025 - val_loss: 0.2047 - val_accuracy: 0.9500 - lr: 0.0010\n",
      "Epoch 9/50\n",
      "100/100 [==============================] - 11s 108ms/step - loss: 0.2439 - accuracy: 0.9150 - val_loss: 0.2342 - val_accuracy: 0.9000 - lr: 0.0010\n",
      "Epoch 10/50\n",
      "100/100 [==============================] - 12s 115ms/step - loss: 0.1323 - accuracy: 0.9625 - val_loss: 0.4848 - val_accuracy: 0.9000 - lr: 0.0010\n",
      "Epoch 11/50\n",
      "100/100 [==============================] - 11s 114ms/step - loss: 0.1706 - accuracy: 0.9575 - val_loss: 0.0502 - val_accuracy: 1.0000 - lr: 0.0010\n",
      "Epoch 12/50\n",
      "100/100 [==============================] - 11s 105ms/step - loss: 0.1487 - accuracy: 0.9572 - val_loss: 0.0046 - val_accuracy: 1.0000 - lr: 0.0010\n",
      "Epoch 13/50\n",
      "100/100 [==============================] - 11s 105ms/step - loss: 0.2274 - accuracy: 0.9395 - val_loss: 0.1159 - val_accuracy: 0.9500 - lr: 0.0010\n",
      "Epoch 14/50\n",
      "100/100 [==============================] - 11s 106ms/step - loss: 0.2608 - accuracy: 0.9250 - val_loss: 0.2423 - val_accuracy: 0.8500 - lr: 0.0010\n",
      "Epoch 15/50\n",
      "100/100 [==============================] - 11s 107ms/step - loss: 0.1385 - accuracy: 0.9550 - val_loss: 0.1199 - val_accuracy: 0.9500 - lr: 0.0010\n",
      "Epoch 16/50\n",
      "100/100 [==============================] - 11s 107ms/step - loss: 0.1045 - accuracy: 0.9700 - val_loss: 0.1048 - val_accuracy: 1.0000 - lr: 0.0010\n",
      "Epoch 17/50\n",
      "100/100 [==============================] - 11s 105ms/step - loss: 0.1429 - accuracy: 0.9521 - val_loss: 0.0329 - val_accuracy: 1.0000 - lr: 0.0010\n",
      "Epoch 18/50\n",
      "100/100 [==============================] - 11s 106ms/step - loss: 0.0406 - accuracy: 0.9899 - val_loss: 0.0268 - val_accuracy: 1.0000 - lr: 1.0000e-04\n",
      "Epoch 19/50\n",
      "100/100 [==============================] - 11s 106ms/step - loss: 0.0329 - accuracy: 0.9850 - val_loss: 0.4914 - val_accuracy: 0.9500 - lr: 1.0000e-04\n",
      "Epoch 20/50\n",
      "100/100 [==============================] - 11s 106ms/step - loss: 0.0507 - accuracy: 0.9800 - val_loss: 0.0627 - val_accuracy: 0.9500 - lr: 1.0000e-04\n",
      "Epoch 21/50\n",
      "100/100 [==============================] - 11s 106ms/step - loss: 0.0751 - accuracy: 0.9924 - val_loss: 0.1292 - val_accuracy: 0.9000 - lr: 1.0000e-04\n",
      "Epoch 22/50\n",
      "100/100 [==============================] - 11s 107ms/step - loss: 0.0327 - accuracy: 0.9950 - val_loss: 0.0028 - val_accuracy: 1.0000 - lr: 1.0000e-04\n",
      "Epoch 23/50\n",
      "100/100 [==============================] - 11s 106ms/step - loss: 0.0161 - accuracy: 0.9950 - val_loss: 0.1321 - val_accuracy: 0.9500 - lr: 1.0000e-04\n",
      "Epoch 24/50\n",
      "100/100 [==============================] - 11s 106ms/step - loss: 0.0202 - accuracy: 0.9925 - val_loss: 0.1611 - val_accuracy: 0.9500 - lr: 1.0000e-04\n",
      "Epoch 25/50\n",
      "100/100 [==============================] - 11s 105ms/step - loss: 0.0237 - accuracy: 0.9924 - val_loss: 0.3565 - val_accuracy: 0.9500 - lr: 1.0000e-04\n",
      "Epoch 26/50\n",
      "100/100 [==============================] - 11s 106ms/step - loss: 0.0164 - accuracy: 0.9950 - val_loss: 0.1242 - val_accuracy: 0.9500 - lr: 1.0000e-04\n",
      "Epoch 27/50\n",
      "100/100 [==============================] - 11s 108ms/step - loss: 0.0127 - accuracy: 0.9975 - val_loss: 0.0012 - val_accuracy: 1.0000 - lr: 1.0000e-04\n",
      "Epoch 28/50\n",
      "100/100 [==============================] - 11s 106ms/step - loss: 0.0163 - accuracy: 0.9925 - val_loss: 0.0013 - val_accuracy: 1.0000 - lr: 1.0000e-04\n",
      "Epoch 29/50\n",
      "100/100 [==============================] - 11s 106ms/step - loss: 0.0110 - accuracy: 0.9950 - val_loss: 0.0088 - val_accuracy: 1.0000 - lr: 1.0000e-04\n",
      "Epoch 30/50\n",
      "100/100 [==============================] - 11s 106ms/step - loss: 0.0060 - accuracy: 1.0000 - val_loss: 0.5011 - val_accuracy: 0.9000 - lr: 1.0000e-04\n",
      "Epoch 31/50\n",
      "100/100 [==============================] - 11s 109ms/step - loss: 0.0019 - accuracy: 1.0000 - val_loss: 0.7070 - val_accuracy: 0.9500 - lr: 1.0000e-04\n",
      "Epoch 32/50\n",
      "100/100 [==============================] - 11s 108ms/step - loss: 0.0232 - accuracy: 0.9975 - val_loss: 1.0637e-04 - val_accuracy: 1.0000 - lr: 1.0000e-04\n",
      "Epoch 33/50\n",
      "100/100 [==============================] - 11s 108ms/step - loss: 0.0068 - accuracy: 0.9975 - val_loss: 0.1407 - val_accuracy: 0.9500 - lr: 1.0000e-04\n",
      "Epoch 34/50\n",
      "100/100 [==============================] - 11s 108ms/step - loss: 0.0054 - accuracy: 0.9975 - val_loss: 0.0062 - val_accuracy: 1.0000 - lr: 1.0000e-04\n",
      "Epoch 35/50\n",
      "100/100 [==============================] - 11s 108ms/step - loss: 0.0154 - accuracy: 0.9975 - val_loss: 7.5072e-04 - val_accuracy: 1.0000 - lr: 1.0000e-04\n",
      "Epoch 36/50\n",
      "100/100 [==============================] - 11s 109ms/step - loss: 0.0104 - accuracy: 0.9975 - val_loss: 5.1711e-04 - val_accuracy: 1.0000 - lr: 1.0000e-04\n",
      "Epoch 37/50\n",
      "100/100 [==============================] - 11s 108ms/step - loss: 0.0083 - accuracy: 0.9975 - val_loss: 0.4814 - val_accuracy: 0.9500 - lr: 1.0000e-04\n",
      "Epoch 38/50\n",
      "100/100 [==============================] - 11s 106ms/step - loss: 0.0020 - accuracy: 1.0000 - val_loss: 0.1233 - val_accuracy: 0.9500 - lr: 1.0000e-05\n",
      "Epoch 39/50\n",
      "100/100 [==============================] - 11s 107ms/step - loss: 0.0139 - accuracy: 0.9950 - val_loss: 0.0594 - val_accuracy: 0.9500 - lr: 1.0000e-05\n",
      "Epoch 40/50\n",
      "100/100 [==============================] - 10s 102ms/step - loss: 0.0077 - accuracy: 0.9975 - val_loss: 0.4131 - val_accuracy: 0.9000 - lr: 1.0000e-05\n",
      "Epoch 41/50\n",
      "100/100 [==============================] - 10s 103ms/step - loss: 0.0096 - accuracy: 0.9950 - val_loss: 0.0492 - val_accuracy: 1.0000 - lr: 1.0000e-05\n",
      "Epoch 42/50\n",
      "100/100 [==============================] - 10s 104ms/step - loss: 0.0014 - accuracy: 1.0000 - val_loss: 0.0195 - val_accuracy: 1.0000 - lr: 1.0000e-05\n"
     ]
    }
   ],
   "source": [
    "history = model.fit(\n",
    "      train_generator,\n",
    "      steps_per_epoch=100,\n",
    "      epochs=50,\n",
    "      validation_data=validation_generator,\n",
    "      validation_steps=5,\n",
    "      callbacks=callbacks)"
   ]
  },
  {
   "cell_type": "code",
   "execution_count": 77,
   "metadata": {},
   "outputs": [],
   "source": [
    "train_accuracy = history.history['accuracy']\n",
    "val_accuracy = history.history['val_accuracy']"
   ]
  },
  {
   "cell_type": "code",
   "execution_count": 78,
   "metadata": {},
   "outputs": [
    {
     "data": {
      "image/png": "[encoded data removed]",
      "text/plain": [
       "<Figure size 640x480 with 1 Axes>"
      ]
     },
     "metadata": {},
     "output_type": "display_data"
    }
   ],
   "source": [
    "import matplotlib.pyplot as plt\n",
    "\n",
    "# Plot training & validation accuracy values\n",
    "plt.plot(train_accuracy)\n",
    "plt.plot(val_accuracy)\n",
    "plt.title('Model accuracy')\n",
    "plt.ylabel('Accuracy')\n",
    "plt.xlabel('Epoch')\n",
    "plt.legend(['Train', 'Validation'], loc='upper left')\n",
    "plt.show()"
   ]
  },
  {
   "cell_type": "code",
   "execution_count": null,
   "metadata": {},
   "outputs": [
    {
     "name": "stdout",
     "output_type": "stream",
     "text": [
      "216/216 [==============================] - 6s 27ms/step - loss: 0.2705 - accuracy: 0.9282\n",
      "Best model validation accuracy: 0.9282\n"
     ]
    }
   ],
   "source": [
    "from tensorflow.keras.models import load_model\n",
    "\n",
    "# Load the best model saved during training\n",
    "best_model = load_model('best_model_prewit.keras')\n",
    "\n",
    "# Evaluate the model to see the best validation accuracy\n",
    "val_loss, val_accuracy = best_model.evaluate(validation_generator)\n",
    "print(f\"Best model validation accuracy: {val_accuracy:.4f}\")"
   ]
  },
  {
   "cell_type": "code",
   "execution_count": null,
   "metadata": {},
   "outputs": [],
   "source": []
  },
  {
   "cell_type": "markdown",
   "metadata": {},
   "source": [
    "## Modelling SOBEL"
   ]
  },
  {
   "cell_type": "markdown",
   "metadata": {},
   "source": [
    "### Image Preprocessing\n",
    "Run to all classes directory"
   ]
  },
  {
   "cell_type": "code",
   "execution_count": 86,
   "metadata": {},
   "outputs": [],
   "source": [
    "import os\n",
    "import numpy as np\n",
    "import cv2  # OpenCV for image manipulation\n",
    "\n",
    "# Define input and output directories\n",
    "input_dir = 'rockpaperscissors-augmented/train/paper'  # Directory with original images\n",
    "output_dir = 'rockpaperscissors-sobel/train/paper'    # Directory to save processed images\n",
    "\n",
    "# Ensure output directory exists\n",
    "os.makedirs(output_dir, exist_ok=True)\n",
    "\n",
    "# Function to apply Sobel edge detection\n",
    "def apply_sobel_edge_detection(image_path):\n",
    "    # Load the image\n",
    "    img = cv2.imread(image_path)\n",
    "    # Convert image to grayscale\n",
    "    gray_img = cv2.cvtColor(img, cv2.COLOR_BGR2GRAY)\n",
    "\n",
    "    # Apply Sobel operator to compute gradients in both x and y directions\n",
    "    grad_x = cv2.Sobel(gray_img, ddepth=cv2.CV_32F, dx=1, dy=0, ksize=3)  # Sobel in the x direction\n",
    "    grad_y = cv2.Sobel(gray_img, ddepth=cv2.CV_32F, dx=0, dy=1, ksize=3)  # Sobel in the y direction\n",
    "\n",
    "    # Compute the magnitude of the gradients\n",
    "    edges = cv2.magnitude(grad_x, grad_y)\n",
    "\n",
    "    # Normalize the result to the range [0, 255] and convert to uint8 for saving\n",
    "    edges = np.uint8(np.clip(edges, 0, 255))\n",
    "\n",
    "    return edges\n",
    "\n",
    "# Process each image in the input directory\n",
    "image_files = [f for f in os.listdir(input_dir) if f.lower().endswith(('png', 'jpg', 'jpeg'))]\n",
    "\n",
    "for image_file in image_files:\n",
    "    img_path = os.path.join(input_dir, image_file)\n",
    "\n",
    "    # Apply Sobel edge detection\n",
    "    edges = apply_sobel_edge_detection(img_path)\n",
    "\n",
    "    # Define the output image path\n",
    "    output_image_path = os.path.join(output_dir, f\"edges_{image_file}\")\n",
    "\n",
    "    # Save the edge-detected image to the output directory\n",
    "    cv2.imwrite(output_image_path, edges)"
   ]
  },
  {
   "cell_type": "code",
   "execution_count": 87,
   "metadata": {},
   "outputs": [
    {
     "name": "stdout",
     "output_type": "stream",
     "text": [
      "Found 1285 images belonging to 3 classes.\n",
      "Found 864 images belonging to 3 classes.\n"
     ]
    }
   ],
   "source": [
    "train_dir = \"rockpaperscissors-sobel/train\"\n",
    "validation_dir = \"rockpaperscissors-sobel/validation\"\n",
    "\n",
    "# Only rescaling, no augmentations\n",
    "train_datagen = ImageDataGenerator(rescale=1./255)\n",
    "\n",
    "validation_datagen = ImageDataGenerator(\n",
    "    rescale=1./255)\n",
    "train_generator = train_datagen.flow_from_directory(\n",
    "    train_dir,\n",
    "    target_size=(150, 150),\n",
    "    batch_size=4,\n",
    "    class_mode='categorical'\n",
    ")\n",
    "\n",
    "# Create the validation_generator (same process for validation)\n",
    "validation_generator = validation_datagen.flow_from_directory(\n",
    "    validation_dir,\n",
    "    target_size=(150, 150),\n",
    "    batch_size=4,\n",
    "    class_mode='categorical'\n",
    ")"
   ]
  },
  {
   "cell_type": "markdown",
   "metadata": {},
   "source": [
    "### Modeling"
   ]
  },
  {
   "cell_type": "code",
   "execution_count": 88,
   "metadata": {},
   "outputs": [],
   "source": [
    "model = tf.keras.models.Sequential([\n",
    "    tf.keras.layers.Conv2D(32, (3,3), activation='relu', input_shape=(150, 150, 3)),\n",
    "    tf.keras.layers.MaxPooling2D(2, 2),\n",
    "    tf.keras.layers.Conv2D(64, (3,3), activation='relu'),\n",
    "    tf.keras.layers.MaxPooling2D(2,2),\n",
    "    tf.keras.layers.Conv2D(128, (3,3), activation='relu'),\n",
    "    tf.keras.layers.MaxPooling2D(2,2),\n",
    "    tf.keras.layers.Conv2D(256, (3,3), activation='relu'),\n",
    "    tf.keras.layers.MaxPooling2D(2,2),\n",
    "    tf.keras.layers.Conv2D(512, (3,3), activation='relu'),\n",
    "    tf.keras.layers.MaxPooling2D(2,2),\n",
    "    tf.keras.layers.Flatten(),\n",
    "    tf.keras.layers.Dense(512, activation='relu'),\n",
    "    tf.keras.layers.Dense(256, activation='relu'),\n",
    "    tf.keras.layers.Dense(3, activation='softmax')\n",
    "])"
   ]
  },
  {
   "cell_type": "code",
   "execution_count": 89,
   "metadata": {},
   "outputs": [
    {
     "name": "stdout",
     "output_type": "stream",
     "text": [
      "Model: \"sequential_5\"\n",
      "_________________________________________________________________\n",
      " Layer (type)                Output Shape              Param #   \n",
      "=================================================================\n",
      " conv2d_25 (Conv2D)          (None, 148, 148, 32)      896       \n",
      "                                                                 \n",
      " max_pooling2d_25 (MaxPoolin  (None, 74, 74, 32)       0         \n",
      " g2D)                                                            \n",
      "                                                                 \n",
      " conv2d_26 (Conv2D)          (None, 72, 72, 64)        18496     \n",
      "                                                                 \n",
      " max_pooling2d_26 (MaxPoolin  (None, 36, 36, 64)       0         \n",
      " g2D)                                                            \n",
      "                                                                 \n",
      " conv2d_27 (Conv2D)          (None, 34, 34, 128)       73856     \n",
      "                                                                 \n",
      " max_pooling2d_27 (MaxPoolin  (None, 17, 17, 128)      0         \n",
      " g2D)                                                            \n",
      "                                                                 \n",
      " conv2d_28 (Conv2D)          (None, 15, 15, 256)       295168    \n",
      "                                                                 \n",
      " max_pooling2d_28 (MaxPoolin  (None, 7, 7, 256)        0         \n",
      " g2D)                                                            \n",
      "                                                                 \n",
      " conv2d_29 (Conv2D)          (None, 5, 5, 512)         1180160   \n",
      "                                                                 \n",
      " max_pooling2d_29 (MaxPoolin  (None, 2, 2, 512)        0         \n",
      " g2D)                                                            \n",
      "                                                                 \n",
      " flatten_5 (Flatten)         (None, 2048)              0         \n",
      "                                                                 \n",
      " dense_15 (Dense)            (None, 512)               1049088   \n",
      "                                                                 \n",
      " dense_16 (Dense)            (None, 256)               131328    \n",
      "                                                                 \n",
      " dense_17 (Dense)            (None, 3)                 771       \n",
      "                                                                 \n",
      "=================================================================\n",
      "Total params: 2,749,763\n",
      "Trainable params: 2,749,763\n",
      "Non-trainable params: 0\n",
      "_________________________________________________________________\n"
     ]
    }
   ],
   "source": [
    "model.summary()"
   ]
  },
  {
   "cell_type": "code",
   "execution_count": 90,
   "metadata": {},
   "outputs": [],
   "source": [
    "model.compile(optimizer='adam',\n",
    "              loss='categorical_crossentropy',\n",
    "              metrics=['accuracy'])"
   ]
  },
  {
   "cell_type": "code",
   "execution_count": 92,
   "metadata": {},
   "outputs": [],
   "source": [
    "from tensorflow.keras.callbacks import EarlyStopping, ModelCheckpoint, ReduceLROnPlateau\n",
    "\n",
    "callbacks = [\n",
    "    EarlyStopping(monitor='val_loss', patience=10, restore_best_weights=True),\n",
    "    ModelCheckpoint('best_model_sobel.keras', save_best_only=True, monitor='val_accuracy', mode='max'),\n",
    "    ReduceLROnPlateau(monitor='val_loss', factor=0.1, patience=5, min_lr=1e-6)\n",
    "]"
   ]
  },
  {
   "cell_type": "code",
   "execution_count": 93,
   "metadata": {},
   "outputs": [
    {
     "name": "stdout",
     "output_type": "stream",
     "text": [
      "Epoch 1/50\n",
      "100/100 [==============================] - 14s 128ms/step - loss: 0.9477 - accuracy: 0.4725 - val_loss: 0.7216 - val_accuracy: 0.6000 - lr: 0.0010\n",
      "Epoch 2/50\n",
      "100/100 [==============================] - 13s 131ms/step - loss: 0.7665 - accuracy: 0.6125 - val_loss: 0.6132 - val_accuracy: 0.8000 - lr: 0.0010\n",
      "Epoch 3/50\n",
      "100/100 [==============================] - 12s 118ms/step - loss: 0.7126 - accuracy: 0.6650 - val_loss: 0.7140 - val_accuracy: 0.7000 - lr: 0.0010\n",
      "Epoch 4/50\n",
      "100/100 [==============================] - 11s 108ms/step - loss: 0.6484 - accuracy: 0.6650 - val_loss: 0.6310 - val_accuracy: 0.8500 - lr: 0.0010\n",
      "Epoch 5/50\n",
      "100/100 [==============================] - 11s 109ms/step - loss: 0.6301 - accuracy: 0.6475 - val_loss: 0.4120 - val_accuracy: 0.8000 - lr: 0.0010\n",
      "Epoch 6/50\n",
      "100/100 [==============================] - 11s 108ms/step - loss: 0.5633 - accuracy: 0.7225 - val_loss: 0.4956 - val_accuracy: 0.8500 - lr: 0.0010\n",
      "Epoch 7/50\n",
      "100/100 [==============================] - 11s 111ms/step - loss: 0.6347 - accuracy: 0.7003 - val_loss: 0.4358 - val_accuracy: 0.7000 - lr: 0.0010\n",
      "Epoch 8/50\n",
      "100/100 [==============================] - 11s 111ms/step - loss: 0.4835 - accuracy: 0.7500 - val_loss: 0.4397 - val_accuracy: 0.8000 - lr: 0.0010\n",
      "Epoch 9/50\n",
      "100/100 [==============================] - 11s 110ms/step - loss: 0.3930 - accuracy: 0.8589 - val_loss: 0.2947 - val_accuracy: 0.8500 - lr: 0.0010\n",
      "Epoch 10/50\n",
      "100/100 [==============================] - 11s 110ms/step - loss: 0.3797 - accuracy: 0.8575 - val_loss: 0.4333 - val_accuracy: 0.8000 - lr: 0.0010\n",
      "Epoch 11/50\n",
      "100/100 [==============================] - 11s 112ms/step - loss: 0.2210 - accuracy: 0.9169 - val_loss: 0.6030 - val_accuracy: 0.8000 - lr: 0.0010\n",
      "Epoch 12/50\n",
      "100/100 [==============================] - 11s 111ms/step - loss: 0.3133 - accuracy: 0.9068 - val_loss: 0.1091 - val_accuracy: 1.0000 - lr: 0.0010\n",
      "Epoch 13/50\n",
      "100/100 [==============================] - 11s 108ms/step - loss: 0.1597 - accuracy: 0.9425 - val_loss: 0.3097 - val_accuracy: 0.9000 - lr: 0.0010\n",
      "Epoch 14/50\n",
      "100/100 [==============================] - 11s 110ms/step - loss: 0.1930 - accuracy: 0.9350 - val_loss: 0.6284 - val_accuracy: 0.7000 - lr: 0.0010\n",
      "Epoch 15/50\n",
      "100/100 [==============================] - 11s 106ms/step - loss: 0.2617 - accuracy: 0.9244 - val_loss: 0.2375 - val_accuracy: 0.8500 - lr: 0.0010\n",
      "Epoch 16/50\n",
      "100/100 [==============================] - 12s 121ms/step - loss: 0.1484 - accuracy: 0.9597 - val_loss: 0.5966 - val_accuracy: 0.8000 - lr: 0.0010\n",
      "Epoch 17/50\n",
      "100/100 [==============================] - 13s 126ms/step - loss: 0.2333 - accuracy: 0.9200 - val_loss: 0.7138 - val_accuracy: 0.8000 - lr: 0.0010\n",
      "Epoch 18/50\n",
      "100/100 [==============================] - 13s 127ms/step - loss: 0.1113 - accuracy: 0.9647 - val_loss: 0.4153 - val_accuracy: 0.9500 - lr: 1.0000e-04\n",
      "Epoch 19/50\n",
      "100/100 [==============================] - 13s 129ms/step - loss: 0.0548 - accuracy: 0.9875 - val_loss: 0.0203 - val_accuracy: 1.0000 - lr: 1.0000e-04\n",
      "Epoch 20/50\n",
      "100/100 [==============================] - 13s 129ms/step - loss: 0.0255 - accuracy: 0.9950 - val_loss: 0.1006 - val_accuracy: 0.9500 - lr: 1.0000e-04\n",
      "Epoch 21/50\n",
      "100/100 [==============================] - 13s 128ms/step - loss: 0.0541 - accuracy: 0.9825 - val_loss: 0.0017 - val_accuracy: 1.0000 - lr: 1.0000e-04\n",
      "Epoch 22/50\n",
      "100/100 [==============================] - 13s 130ms/step - loss: 0.0119 - accuracy: 0.9975 - val_loss: 0.0018 - val_accuracy: 1.0000 - lr: 1.0000e-04\n",
      "Epoch 23/50\n",
      "100/100 [==============================] - 13s 130ms/step - loss: 0.0216 - accuracy: 0.9925 - val_loss: 0.0040 - val_accuracy: 1.0000 - lr: 1.0000e-04\n",
      "Epoch 24/50\n",
      "100/100 [==============================] - 13s 131ms/step - loss: 0.0369 - accuracy: 0.9950 - val_loss: 0.0032 - val_accuracy: 1.0000 - lr: 1.0000e-04\n",
      "Epoch 25/50\n",
      "100/100 [==============================] - 13s 132ms/step - loss: 0.0295 - accuracy: 0.9925 - val_loss: 0.0028 - val_accuracy: 1.0000 - lr: 1.0000e-04\n",
      "Epoch 26/50\n",
      "100/100 [==============================] - 13s 134ms/step - loss: 0.0277 - accuracy: 0.9950 - val_loss: 0.0153 - val_accuracy: 1.0000 - lr: 1.0000e-04\n",
      "Epoch 27/50\n",
      "100/100 [==============================] - 11s 112ms/step - loss: 0.0343 - accuracy: 0.9925 - val_loss: 0.0230 - val_accuracy: 1.0000 - lr: 1.0000e-05\n",
      "Epoch 28/50\n",
      "100/100 [==============================] - 11s 106ms/step - loss: 0.0371 - accuracy: 0.9924 - val_loss: 0.0101 - val_accuracy: 1.0000 - lr: 1.0000e-05\n",
      "Epoch 29/50\n",
      "100/100 [==============================] - 12s 116ms/step - loss: 0.0475 - accuracy: 0.9875 - val_loss: 0.0044 - val_accuracy: 1.0000 - lr: 1.0000e-05\n",
      "Epoch 30/50\n",
      "100/100 [==============================] - 11s 106ms/step - loss: 0.0508 - accuracy: 0.9849 - val_loss: 0.0966 - val_accuracy: 0.9000 - lr: 1.0000e-05\n",
      "Epoch 31/50\n",
      "100/100 [==============================] - 11s 107ms/step - loss: 0.0114 - accuracy: 0.9975 - val_loss: 0.1607 - val_accuracy: 0.9500 - lr: 1.0000e-05\n"
     ]
    }
   ],
   "source": [
    "history = model.fit(\n",
    "      train_generator,\n",
    "      steps_per_epoch=100,\n",
    "      epochs=50,\n",
    "      validation_data=validation_generator,\n",
    "      validation_steps=5,\n",
    "      callbacks=callbacks)"
   ]
  },
  {
   "cell_type": "code",
   "execution_count": 94,
   "metadata": {},
   "outputs": [],
   "source": [
    "train_accuracy = history.history['accuracy']\n",
    "val_accuracy = history.history['val_accuracy']"
   ]
  },
  {
   "cell_type": "code",
   "execution_count": 95,
   "metadata": {},
   "outputs": [
    {
     "data": {
      "image/png": "[encoded data removed]",
      "text/plain": [
       "<Figure size 640x480 with 1 Axes>"
      ]
     },
     "metadata": {},
     "output_type": "display_data"
    }
   ],
   "source": [
    "import matplotlib.pyplot as plt\n",
    "\n",
    "# Plot training & validation accuracy values\n",
    "plt.plot(train_accuracy)\n",
    "plt.plot(val_accuracy)\n",
    "plt.title('Model accuracy')\n",
    "plt.ylabel('Accuracy')\n",
    "plt.xlabel('Epoch')\n",
    "plt.legend(['Train', 'Validation'], loc='upper left')\n",
    "plt.show()"
   ]
  },
  {
   "cell_type": "code",
   "execution_count": 96,
   "metadata": {},
   "outputs": [
    {
     "name": "stdout",
     "output_type": "stream",
     "text": [
      "216/216 [==============================] - 6s 29ms/step - loss: 0.2310 - accuracy: 0.9155\n",
      "Best model validation accuracy: 0.9155\n"
     ]
    }
   ],
   "source": [
    "from tensorflow.keras.models import load_model\n",
    "\n",
    "# Load the best model saved during training\n",
    "best_model = load_model('best_model_sobel.keras')\n",
    "\n",
    "# Evaluate the model to see the best validation accuracy\n",
    "val_loss, val_accuracy = best_model.evaluate(validation_generator)\n",
    "print(f\"Best model validation accuracy: {val_accuracy:.4f}\")"
   ]
  },
  {
   "cell_type": "code",
   "execution_count": null,
   "metadata": {},
   "outputs": [],
   "source": []
  }
 ],
 "metadata": {
  "colab": {
   "provenance": []
  },
  "kernelspec": {
   "display_name": "Python 3",
   "name": "python3"
  },
  "language_info": {
   "codemirror_mode": {
    "name": "ipython",
    "version": 3
   },
   "file_extension": ".py",
   "mimetype": "text/x-python",
   "name": "python",
   "nbconvert_exporter": "python",
   "pygments_lexer": "ipython3",
   "version": "3.8.10"
  }
 },
 "nbformat": 4,
 "nbformat_minor": 0
}
